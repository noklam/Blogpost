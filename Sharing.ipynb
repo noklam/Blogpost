{
 "cells": [
  {
   "cell_type": "markdown",
   "metadata": {},
   "source": [
    "# Appendix"
   ]
  },
  {
   "cell_type": "markdown",
   "metadata": {},
   "source": [
    "nbdime:  \n",
    "https://nbdime.readthedocs.io/en/stable/  \n",
    "SciPy 2016 for nbdime:  \n",
    "https://www.youtube.com/watch?v=tKAmwC8ay8E  \n",
    "\n",
    "CI/CD:  \n",
    "https://gitlab.com/noklam/CICDTEST  \n",
    "\n",
    "Update:  \n",
    "http://www.arxiv-sanity.com/  \n",
    "https://twitter.com/account/begin_password_reset  \n",
    "https://www.mendeley.com/newsfeed/  \n",
    "\n",
    "Demo:  \n",
    "http://jianyang.ml\n"
   ]
  },
  {
   "cell_type": "markdown",
   "metadata": {
    "slideshow": {
     "slide_type": "slide"
    }
   },
   "source": [
    "# Jupyter Notebook Commands, Functions"
   ]
  },
  {
   "cell_type": "markdown",
   "metadata": {
    "slideshow": {
     "slide_type": "subslide"
    }
   },
   "source": [
    "## Extension"
   ]
  },
  {
   "cell_type": "markdown",
   "metadata": {
    "ExecuteTime": {
     "end_time": "2018-11-21T02:15:56.758513Z",
     "start_time": "2018-11-21T02:15:56.754436Z"
    }
   },
   "source": [
    "\n",
    "install extension\n",
    "```bash\n",
    "pip install jupyter_contrib_nbextensions \n",
    "jupyter contrib nbextension install --user \n",
    "pip install jupyter_nbextensions_configurator \n",
    "\n",
    "pip install nbdime \n",
    "nbdime extensions --enable\n",
    "```\n",
    "\n",
    "* Table of Content\n",
    "* Collapsible Heading\n",
    "* Execute Time (timestamp for cell)\n",
    "* Move cell up and down"
   ]
  },
  {
   "cell_type": "markdown",
   "metadata": {
    "slideshow": {
     "slide_type": "fragment"
    }
   },
   "source": [
    "## Shortkey"
   ]
  },
  {
   "cell_type": "markdown",
   "metadata": {
    "slideshow": {
     "slide_type": "notes"
    }
   },
   "source": [
    "Basic: \n",
    "- Add cells (`A` or `B`)\n",
    "- Delete cells(`DD`)\n",
    "- Copy Cells (`C`)\n",
    "- Move Cells (Click Help --> Keyboard shortcuts, setup your own, if you use extension then it is `Alt` + `Up` or `Alt` + `Down`)\n",
    "- Undo (`Z`)\n",
    "\n",
    "Advance:\n",
    "- Command (`Ctr`l + `Shif`t + `P`)\n",
    "- Zen (Keep your notebook view clean)\n",
    "\n",
    "- `Tab` Completion\n",
    "- docstring (`Shift` + `Tab` or use `??`)"
   ]
  },
  {
   "cell_type": "markdown",
   "metadata": {},
   "source": [
    "## Some Other ShortKey you should know for your IDE\n",
    "* Find Reference\n",
    "* Go to Definition"
   ]
  },
  {
   "cell_type": "markdown",
   "metadata": {},
   "source": [
    "## Magic Function"
   ]
  },
  {
   "cell_type": "code",
   "execution_count": 9,
   "metadata": {
    "ExecuteTime": {
     "end_time": "2018-11-23T06:36:24.056470Z",
     "start_time": "2018-11-23T06:36:23.883940Z"
    }
   },
   "outputs": [],
   "source": [
    "import pandas as pd\n",
    "import time"
   ]
  },
  {
   "cell_type": "code",
   "execution_count": 10,
   "metadata": {
    "ExecuteTime": {
     "end_time": "2018-11-23T06:36:24.136937Z",
     "start_time": "2018-11-23T06:36:24.086328Z"
    }
   },
   "outputs": [],
   "source": [
    "pd.read_csv??"
   ]
  },
  {
   "cell_type": "code",
   "execution_count": 11,
   "metadata": {
    "ExecuteTime": {
     "end_time": "2018-11-23T06:36:24.302489Z",
     "start_time": "2018-11-23T06:36:24.298242Z"
    }
   },
   "outputs": [],
   "source": [
    "def slow():\n",
    "    time.sleep(0.01)"
   ]
  },
  {
   "cell_type": "code",
   "execution_count": 12,
   "metadata": {
    "ExecuteTime": {
     "end_time": "2018-11-23T06:36:24.526442Z",
     "start_time": "2018-11-23T06:36:24.521881Z"
    }
   },
   "outputs": [],
   "source": [
    "def fast():\n",
    "     for i in range(1000):\n",
    "            slow()"
   ]
  },
  {
   "cell_type": "code",
   "execution_count": 13,
   "metadata": {
    "ExecuteTime": {
     "end_time": "2018-11-23T06:36:25.291254Z",
     "start_time": "2018-11-23T06:36:25.274624Z"
    }
   },
   "outputs": [
    {
     "name": "stdout",
     "output_type": "stream",
     "text": [
      "CPU times: user 1.14 ms, sys: 207 µs, total: 1.35 ms\n",
      "Wall time: 10.2 ms\n"
     ]
    }
   ],
   "source": [
    "%time slow()"
   ]
  },
  {
   "cell_type": "code",
   "execution_count": 14,
   "metadata": {
    "ExecuteTime": {
     "end_time": "2018-11-23T06:36:33.740130Z",
     "start_time": "2018-11-23T06:36:25.523209Z"
    }
   },
   "outputs": [
    {
     "name": "stdout",
     "output_type": "stream",
     "text": [
      "10.1 ms ± 2.3 µs per loop (mean ± std. dev. of 7 runs, 100 loops each)\n"
     ]
    }
   ],
   "source": [
    "%timeit slow()"
   ]
  },
  {
   "cell_type": "code",
   "execution_count": 15,
   "metadata": {
    "ExecuteTime": {
     "end_time": "2018-11-23T06:36:43.879969Z",
     "start_time": "2018-11-23T06:36:33.743995Z"
    }
   },
   "outputs": [
    {
     "name": "stdout",
     "output_type": "stream",
     "text": [
      " "
     ]
    }
   ],
   "source": [
    "%prun fast()"
   ]
  },
  {
   "cell_type": "markdown",
   "metadata": {},
   "source": [
    "## Debug"
   ]
  },
  {
   "cell_type": "code",
   "execution_count": 16,
   "metadata": {
    "ExecuteTime": {
     "end_time": "2018-11-23T06:36:43.887432Z",
     "start_time": "2018-11-23T06:36:43.883844Z"
    }
   },
   "outputs": [],
   "source": [
    "import math"
   ]
  },
  {
   "cell_type": "code",
   "execution_count": 17,
   "metadata": {
    "ExecuteTime": {
     "end_time": "2018-11-23T06:36:43.900766Z",
     "start_time": "2018-11-23T06:36:43.890976Z"
    }
   },
   "outputs": [],
   "source": [
    "def magic_function(x):\n",
    "    return math.asinh(x * math.pi) * x /100"
   ]
  },
  {
   "cell_type": "code",
   "execution_count": 18,
   "metadata": {
    "ExecuteTime": {
     "end_time": "2018-11-23T06:36:43.908989Z",
     "start_time": "2018-11-23T06:36:43.903800Z"
    }
   },
   "outputs": [],
   "source": [
    "import pdb"
   ]
  },
  {
   "cell_type": "code",
   "execution_count": 19,
   "metadata": {
    "ExecuteTime": {
     "end_time": "2018-11-23T06:36:43.917197Z",
     "start_time": "2018-11-23T06:36:43.912106Z"
    }
   },
   "outputs": [],
   "source": [
    "#debug\n",
    "def bonus(salary=100000):\n",
    "    bonus = magic_function(salary)\n",
    "#     pdb.set_trace()\n",
    "    if bonus < 100000: raise ValueError(\n",
    "    'Where is my money?')"
   ]
  },
  {
   "cell_type": "code",
   "execution_count": 20,
   "metadata": {
    "ExecuteTime": {
     "end_time": "2018-11-23T06:36:43.956023Z",
     "start_time": "2018-11-23T06:36:43.920373Z"
    }
   },
   "outputs": [
    {
     "ename": "ValueError",
     "evalue": "Where is my money?",
     "output_type": "error",
     "traceback": [
      "\u001b[0;31m---------------------------------------------------------------------------\u001b[0m",
      "\u001b[0;31mValueError\u001b[0m                                Traceback (most recent call last)",
      "\u001b[0;32m<ipython-input-20-b50dbf66327b>\u001b[0m in \u001b[0;36m<module>\u001b[0;34m\u001b[0m\n\u001b[0;32m----> 1\u001b[0;31m \u001b[0mbonus\u001b[0m\u001b[0;34m(\u001b[0m\u001b[0;36m100000\u001b[0m\u001b[0;34m)\u001b[0m\u001b[0;34m\u001b[0m\u001b[0m\n\u001b[0m",
      "\u001b[0;32m<ipython-input-19-594cffe32dc9>\u001b[0m in \u001b[0;36mbonus\u001b[0;34m(salary)\u001b[0m\n\u001b[1;32m      4\u001b[0m \u001b[0;31m#     pdb.set_trace()\u001b[0m\u001b[0;34m\u001b[0m\u001b[0;34m\u001b[0m\u001b[0m\n\u001b[1;32m      5\u001b[0m     if bonus < 100000: raise ValueError(\n\u001b[0;32m----> 6\u001b[0;31m     'Where is my money?')\n\u001b[0m",
      "\u001b[0;31mValueError\u001b[0m: Where is my money?"
     ]
    }
   ],
   "source": [
    "bonus(100000)"
   ]
  },
  {
   "cell_type": "markdown",
   "metadata": {
    "ExecuteTime": {
     "end_time": "2018-11-21T02:16:42.683185Z",
     "start_time": "2018-11-21T02:16:42.679141Z"
    }
   },
   "source": [
    "For Debugger, type `h` to get help message, `q` to quit\n"
   ]
  },
  {
   "cell_type": "code",
   "execution_count": 21,
   "metadata": {
    "ExecuteTime": {
     "end_time": "2018-11-23T06:36:50.142375Z",
     "start_time": "2018-11-23T06:36:48.507535Z"
    }
   },
   "outputs": [
    {
     "name": "stdout",
     "output_type": "stream",
     "text": [
      "> \u001b[0;32m<ipython-input-19-594cffe32dc9>\u001b[0m(6)\u001b[0;36mbonus\u001b[0;34m()\u001b[0m\n",
      "\u001b[0;32m      2 \u001b[0;31m\u001b[0;32mdef\u001b[0m \u001b[0mbonus\u001b[0m\u001b[0;34m(\u001b[0m\u001b[0msalary\u001b[0m\u001b[0;34m=\u001b[0m\u001b[0;36m100000\u001b[0m\u001b[0;34m)\u001b[0m\u001b[0;34m:\u001b[0m\u001b[0;34m\u001b[0m\u001b[0m\n",
      "\u001b[0m\u001b[0;32m      3 \u001b[0;31m    \u001b[0mbonus\u001b[0m \u001b[0;34m=\u001b[0m \u001b[0mmagic_function\u001b[0m\u001b[0;34m(\u001b[0m\u001b[0msalary\u001b[0m\u001b[0;34m)\u001b[0m\u001b[0;34m\u001b[0m\u001b[0m\n",
      "\u001b[0m\u001b[0;32m      4 \u001b[0;31m\u001b[0;31m#     pdb.set_trace()\u001b[0m\u001b[0;34m\u001b[0m\u001b[0;34m\u001b[0m\u001b[0m\n",
      "\u001b[0m\u001b[0;32m      5 \u001b[0;31m    if bonus < 100000: raise ValueError(\n",
      "\u001b[0m\u001b[0;32m----> 6 \u001b[0;31m    'Where is my money?')\n",
      "\u001b[0m\n",
      "ipdb> h\n",
      "\n",
      "Documented commands (type help <topic>):\n",
      "========================================\n",
      "EOF    cl         disable  interact  next    psource  rv         unt   \n",
      "a      clear      display  j         p       q        s          until \n",
      "alias  commands   down     jump      pdef    quit     source     up    \n",
      "args   condition  enable   l         pdoc    r        step       w     \n",
      "b      cont       exit     list      pfile   restart  tbreak     whatis\n",
      "break  continue   h        ll        pinfo   return   u          where \n",
      "bt     d          help     longlist  pinfo2  retval   unalias  \n",
      "c      debug      ignore   n         pp      run      undisplay\n",
      "\n",
      "Miscellaneous help topics:\n",
      "==========================\n",
      "exec  pdb\n",
      "\n",
      "ipdb> q\n"
     ]
    }
   ],
   "source": [
    "%debug"
   ]
  },
  {
   "cell_type": "markdown",
   "metadata": {},
   "source": [
    "## Pandas chain"
   ]
  },
  {
   "cell_type": "code",
   "execution_count": null,
   "metadata": {
    "ExecuteTime": {
     "end_time": "2018-11-18T16:40:50.209704Z",
     "start_time": "2018-11-18T16:40:50.199677Z"
    },
    "scrolled": true
   },
   "outputs": [],
   "source": [
    "df = pd.read_csv(fp)/\n",
    ".rename(columns=str.lower) / \n",
    ".drop('unnamed: 36', axis=1)/\n",
    ".pipe(extract_city_name) /\n",
    ".pipe(time_to_datetime, ['dep_time', 'arr_time', 'crs_arr_time', 'crs_dep_time'])\n",
    "           "
   ]
  },
  {
   "cell_type": "markdown",
   "metadata": {},
   "source": [
    "Add a () for any chain method can be formatted much easier."
   ]
  },
  {
   "cell_type": "code",
   "execution_count": null,
   "metadata": {},
   "outputs": [],
   "source": [
    "df = (pd.read_csv(fp)\n",
    "      .rename(columns=str.lower)\n",
    "      .drop('unnamed: 36', axis=1)\n",
    "      .pipe(extract_city_name)\n",
    "      .pipe(time_to_datetime, ['dep_time', 'arr_time', 'crs_arr_time', 'crs_dep_time'])\n",
    "      )"
   ]
  },
  {
   "cell_type": "code",
   "execution_count": 22,
   "metadata": {
    "ExecuteTime": {
     "end_time": "2018-11-23T06:37:30.144105Z",
     "start_time": "2018-11-23T06:37:30.139691Z"
    }
   },
   "outputs": [],
   "source": [
    "import numpy as np\n",
    "import math"
   ]
  },
  {
   "cell_type": "markdown",
   "metadata": {},
   "source": [
    "# nbdime"
   ]
  },
  {
   "cell_type": "markdown",
   "metadata": {},
   "source": [
    "Notes: You can use Jupyter extension for comparing notebook with last checkpoint, commit as well."
   ]
  },
  {
   "cell_type": "code",
   "execution_count": null,
   "metadata": {},
   "outputs": [],
   "source": [
    "import os\n",
    "os.chdir('nbdime')"
   ]
  },
  {
   "cell_type": "code",
   "execution_count": null,
   "metadata": {
    "ExecuteTime": {
     "end_time": "2018-11-15T11:26:06.628889Z",
     "start_time": "2018-11-15T11:26:04.782821Z"
    }
   },
   "outputs": [],
   "source": [
    "!pip install nbdime"
   ]
  },
  {
   "cell_type": "code",
   "execution_count": 9,
   "metadata": {
    "ExecuteTime": {
     "end_time": "2018-11-18T10:52:28.845983Z",
     "start_time": "2018-11-18T10:52:28.133355Z"
    }
   },
   "outputs": [
    {
     "name": "stdout",
     "output_type": "stream",
     "text": [
      "usage: nbdiff [-h] [--version] [--config]\n",
      "              [--log-level {DEBUG,INFO,WARN,ERROR,CRITICAL}] [-s] [-o] [-a]\n",
      "              [-m] [-d] [--color-words] [--out OUT]\n",
      "              [base] [remote] [paths [paths ...]]\n",
      "\n",
      "Compute the difference between two Jupyter notebooks.\n",
      "\n",
      "positional arguments:\n",
      "  base                  the base notebook filename OR base git-revision.\n",
      "  remote                the remote modified notebook filename OR remote git-\n",
      "                        revision.\n",
      "  paths                 filter diffs for git-revisions based on path\n",
      "\n",
      "optional arguments:\n",
      "  -h, --help            show this help message and exit\n",
      "  --version             show program's version number and exit\n",
      "  --config              list the valid config keys and their current effective\n",
      "                        values\n",
      "  --log-level {DEBUG,INFO,WARN,ERROR,CRITICAL}\n",
      "                        set the log level by name.\n",
      "  --color-words         whether to pass the --color-words flag to any internal\n",
      "                        calls to git diff\n",
      "  --out OUT             if supplied, the diff is written to this file.\n",
      "                        Otherwise it is printed to the terminal.\n",
      "\n",
      "ignorables:\n",
      "  Set which parts of the notebook (not) to process.\n",
      "\n",
      "  -s, --sources, -S, --ignore-sources\n",
      "                        process/ignore sources.\n",
      "  -o, --outputs, -O, --ignore-outputs\n",
      "                        process/ignore outputs.\n",
      "  -a, --attachments, -A, --ignore-attachments\n",
      "                        process/ignore attachments.\n",
      "  -m, --metadata, -M, --ignore-metadata\n",
      "                        process/ignore metadata.\n",
      "  -d, --details, -D, --ignore-details\n",
      "                        process/ignore details not covered by other options.\n"
     ]
    }
   ],
   "source": [
    "!nbdiff -h"
   ]
  },
  {
   "cell_type": "markdown",
   "metadata": {},
   "source": [
    "Try to uncomment the cell and run it"
   ]
  },
  {
   "cell_type": "code",
   "execution_count": 4,
   "metadata": {
    "ExecuteTime": {
     "end_time": "2018-11-23T06:35:22.031298Z",
     "start_time": "2018-11-23T06:33:31.447493Z"
    }
   },
   "outputs": [
    {
     "name": "stdout",
     "output_type": "stream",
     "text": [
      "[I nbdimeserver:370] Listening on 127.0.0.1, port 46333\n",
      "[I webutil:29] URL: http://127.0.0.1:46333/diff?base=base.ipynb&remote=local.ipynb\n",
      "[I nbdimeserver:299] Closing server on remote request\n"
     ]
    }
   ],
   "source": [
    "# !nbdiff base.ipynb local.ipynb\n",
    "!nbdiff-web base.ipynb local.ipynb\n",
    "# !nbdiff HEAD~6..HEAD -- base.ipynb"
   ]
  },
  {
   "cell_type": "code",
   "execution_count": 13,
   "metadata": {
    "ExecuteTime": {
     "end_time": "2018-11-18T10:54:42.730377Z",
     "start_time": "2018-11-18T10:54:42.085992Z"
    }
   },
   "outputs": [
    {
     "name": "stdout",
     "output_type": "stream",
     "text": [
      "usage: nbmerge [-h] [--version] [--config]\n",
      "               [--log-level {DEBUG,INFO,WARN,ERROR,CRITICAL}] [-s] [-o] [-a]\n",
      "               [-m] [-d]\n",
      "               [--merge-strategy {inline,use-base,use-local,use-remote}]\n",
      "               [--input-strategy {inline,use-base,use-local,use-remote}]\n",
      "               [--output-strategy {inline,use-base,use-local,use-remote,remove,clear-all}]\n",
      "               [--no-ignore-transients] [--out OUT] [--decisions]\n",
      "               base local remote\n",
      "\n",
      "Merge two Jupyter notebooks \"local\" and \"remote\" with a common ancestor\n",
      "\"base\".\n",
      "\n",
      "positional arguments:\n",
      "  base                  The base notebook filename.\n",
      "  local                 The local modified notebook filename.\n",
      "  remote                The remote modified notebook filename.\n",
      "\n",
      "optional arguments:\n",
      "  -h, --help            show this help message and exit\n",
      "  --version             show program's version number and exit\n",
      "  --config              list the valid config keys and their current effective\n",
      "                        values\n",
      "  --log-level {DEBUG,INFO,WARN,ERROR,CRITICAL}\n",
      "                        set the log level by name.\n",
      "  --merge-strategy {inline,use-base,use-local,use-remote}\n",
      "                        the merge strategy to use.\n",
      "  --input-strategy {inline,use-base,use-local,use-remote}\n",
      "                        the merge strategy to use for inputs (overrides\n",
      "                        'merge-strategy' for inputs).\n",
      "  --output-strategy {inline,use-base,use-local,use-remote,remove,clear-all}\n",
      "                        the merge strategy to use for outputs (overrides\n",
      "                        'merge-strategy' for outputs).\n",
      "  --no-ignore-transients\n",
      "                        disallow deletion of transient data such as outputs\n",
      "                        and execution counts in order to resolve conflicts.\n",
      "  --out OUT             if supplied, the merged notebook is written to this\n",
      "                        file. Otherwise it is printed to the terminal.\n",
      "  --decisions           print a human-readable summary of conflicted merge\n",
      "                        decisions instead of merging the notebook.\n",
      "\n",
      "ignorables:\n",
      "  Set which parts of the notebook (not) to process.\n",
      "\n",
      "  -s, --sources, -S, --ignore-sources\n",
      "                        process/ignore sources.\n",
      "  -o, --outputs, -O, --ignore-outputs\n",
      "                        process/ignore outputs.\n",
      "  -a, --attachments, -A, --ignore-attachments\n",
      "                        process/ignore attachments.\n",
      "  -m, --metadata, -M, --ignore-metadata\n",
      "                        process/ignore metadata.\n",
      "  -d, --details, -D, --ignore-details\n",
      "                        process/ignore details not covered by other options.\n"
     ]
    }
   ],
   "source": [
    "!nbmerge -h"
   ]
  },
  {
   "cell_type": "markdown",
   "metadata": {
    "ExecuteTime": {
     "end_time": "2018-11-15T11:31:23.728595Z",
     "start_time": "2018-11-15T11:31:21.774707Z"
    }
   },
   "source": [
    "Run this if you want nbdime to be default mergetool for .ipynb  \n",
    "```bash\n",
    "nbdime config-git --enable --global\n",
    "```"
   ]
  },
  {
   "cell_type": "code",
   "execution_count": 27,
   "metadata": {
    "ExecuteTime": {
     "end_time": "2018-11-19T03:36:16.563564Z",
     "start_time": "2018-11-19T03:35:53.171995Z"
    }
   },
   "outputs": [
    {
     "name": "stderr",
     "output_type": "stream",
     "text": [
      "[I nbdimeserver:375] Listening on 127.0.0.1, port 53754\n",
      "[I webutil:29] URL: http://127.0.0.1:53754/merge?base=base.ipynb&local=local.ipynb&remote=remote.ipynb\n",
      "[W decisions:225] Unhandled conflict strategy mergetool on /cells/1/source\n",
      "[I nbdimeserver:304] Closing server on remote request\n"
     ]
    }
   ],
   "source": [
    "# !nbmerge base.ipynb local.ipynb remote.ipynb > merge.ipynb\n",
    "!nbmerge-web base.ipynb local.ipynb remote.ipynb "
   ]
  },
  {
   "cell_type": "markdown",
   "metadata": {},
   "source": [
    "# Resource for update"
   ]
  },
  {
   "cell_type": "markdown",
   "metadata": {},
   "source": [
    "https://www.mendeley.com/newsfeed/  \n",
    "http://www.arxiv-sanity.com/  \n",
    "https://twitter.com/  \n",
    "https://paperswithcode.com  "
   ]
  },
  {
   "cell_type": "markdown",
   "metadata": {},
   "source": [
    "# CI/CD, Teams"
   ]
  },
  {
   "cell_type": "markdown",
   "metadata": {},
   "source": [
    "https://gitlab.com/noklam/CICDTEST"
   ]
  },
  {
   "cell_type": "markdown",
   "metadata": {},
   "source": [
    "# Fastai, demo"
   ]
  },
  {
   "cell_type": "markdown",
   "metadata": {
    "ExecuteTime": {
     "end_time": "2018-11-21T02:12:25.114354Z",
     "start_time": "2018-11-21T02:12:25.051181Z"
    }
   },
   "source": [
    "https://jianyang.ml"
   ]
  }
 ],
 "metadata": {
  "hide_input": false,
  "kernelspec": {
   "display_name": "Python 3",
   "language": "python",
   "name": "python3"
  },
  "language_info": {
   "codemirror_mode": {
    "name": "ipython",
    "version": 3
   },
   "file_extension": ".py",
   "mimetype": "text/x-python",
   "name": "python",
   "nbconvert_exporter": "python",
   "pygments_lexer": "ipython3",
   "version": "3.7.0"
  },
  "toc": {
   "base_numbering": 1,
   "nav_menu": {},
   "number_sections": true,
   "sideBar": false,
   "skip_h1_title": false,
   "title_cell": "Table of Contents",
   "title_sidebar": "Contents",
   "toc_cell": false,
   "toc_position": {
    "height": "355px",
    "left": "636.883px",
    "top": "135.55px",
    "width": "275px"
   },
   "toc_section_display": true,
   "toc_window_display": true
  }
 },
 "nbformat": 4,
 "nbformat_minor": 2
}
